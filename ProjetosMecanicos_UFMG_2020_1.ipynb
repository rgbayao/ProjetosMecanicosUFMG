{
  "nbformat": 4,
  "nbformat_minor": 0,
  "metadata": {
    "colab": {
      "name": "ProjetosMecanicos_UFMG_2020-1.ipynb",
      "provenance": [],
      "collapsed_sections": [],
      "include_colab_link": true
    },
    "kernelspec": {
      "name": "python3",
      "display_name": "Python 3"
    }
  },
  "cells": [
    {
      "cell_type": "markdown",
      "metadata": {
        "id": "view-in-github",
        "colab_type": "text"
      },
      "source": [
        "<a href=\"https://colab.research.google.com/github/rgbayao/ProjetosMecanicosUFMG/blob/main/ProjetosMecanicos_UFMG_2020_1.ipynb\" target=\"_parent\"><img src=\"https://colab.research.google.com/assets/colab-badge.svg\" alt=\"Open In Colab\"/></a>"
      ]
    },
    {
      "cell_type": "markdown",
      "metadata": {
        "id": "4klDVl_23UtK"
      },
      "source": [
        "# Funções para funcionamento do código"
      ]
    },
    {
      "cell_type": "code",
      "metadata": {
        "id": "Q7SOjvqC0RGE"
      },
      "source": [
        "import math\n",
        "import numpy as np\n",
        "import pandas as pd"
      ],
      "execution_count": null,
      "outputs": []
    },
    {
      "cell_type": "markdown",
      "metadata": {
        "id": "KLYRBekx3hag"
      },
      "source": [
        "# Preprocessamento"
      ]
    },
    {
      "cell_type": "code",
      "metadata": {
        "id": "F6f_1pkh0aLj"
      },
      "source": [
        "# Geomtria de cilindro\n",
        "class Geometry_Cilinder():\n",
        "    def __init__(self, l, r0):\n",
        "        self.l = l\n",
        "        self.r0 = r0\n",
        "    def get_area(self):\n",
        "        return math.pi*self.r0**2 "
      ],
      "execution_count": null,
      "outputs": []
    },
    {
      "cell_type": "code",
      "metadata": {
        "id": "xfmoOxjM0mgu"
      },
      "source": [
        "# Gerador de malha\n",
        "class Mesh():\n",
        "    def __init__(self, geometry, n_elementos):\n",
        "        self.geometry = geometry\n",
        "        self.n_elementos = n_elementos\n",
        "        \n",
        "    def generate_mesh(self):\n",
        "        n_nodes = self.n_elementos + 1\n",
        "        element_length = self.geometry.l / self.n_elementos\n",
        "        self.mesh_nodes = []\n",
        "        self.mesh_elements = []\n",
        "        counter = 0\n",
        "        for i in range(0, n_nodes):\n",
        "            node = Node(counter, element_length * counter)\n",
        "            self.mesh_nodes.append(node)\n",
        "            counter += 1\n",
        "        counter = 0\n",
        "        for i in range(1, n_nodes):\n",
        "            element = BarElement(self.mesh_nodes[i-1],self.mesh_nodes[i],counter, self.geometry)\n",
        "            self.mesh_elements.append(element)\n",
        "            counter +=1"
      ],
      "execution_count": null,
      "outputs": []
    },
    {
      "cell_type": "code",
      "metadata": {
        "id": "eRxOUDcS0psw"
      },
      "source": [
        "# Objeto de nó\n",
        "class Node():\n",
        "    def __init__(self, idNode, x, restrained = False):\n",
        "        self.x = x\n",
        "        self.id = idNode\n",
        "        self.restrained = restrained\n",
        "        self.hasSpring = False\n",
        "        self.hasLocMass = False\n",
        "    def set_spring(self, stiffness):\n",
        "      self.stiffness = stiffness\n",
        "      self.hasSpring = True\n",
        "    def set_mass(self, mass):\n",
        "      self.hasLocMass = True\n",
        "      self.locMass = mass"
      ],
      "execution_count": null,
      "outputs": []
    },
    {
      "cell_type": "code",
      "metadata": {
        "id": "--hB70Ba0u4w"
      },
      "source": [
        "# Elemento de barra\n",
        "class BarElement():\n",
        "    def __init__(self, node0, node1, idEle, geo):\n",
        "        self.node0 = node0\n",
        "        self.node1 = node1\n",
        "        self.l = abs(node0.x - node1.x)\n",
        "        self.id = idEle\n",
        "        self.geo = geo\n",
        "        self.area = geo.get_area()\n",
        "    \n",
        "    def set_material(self, material):\n",
        "        self.material = material\n",
        "    \n",
        "    def mount_local_k(self):\n",
        "        k = np.zeros((2,2))\n",
        "        mult = self.area * self.material.elastic_modulus / self.l\n",
        "        k[0][0] = mult * 1\n",
        "        k[0][1] = mult * -1\n",
        "        k[1][0] = k[0][1]\n",
        "        k[1][1] = k[0][0]\n",
        "        if self.node0.hasSpring:\n",
        "          k[0][0] += self.node0.stiffness\n",
        "        elif self.node1.hasSpring:\n",
        "          k[1][1] += self.node1.stiffness\n",
        "        return k\n",
        "    \n",
        "    def mount_local_m(self):\n",
        "        m = np.zeros((2,2))\n",
        "        mult = self.material.rho * self.l * self.area / 6\n",
        "        m[0][0] = mult * 2\n",
        "        m[0][1] = mult * 1\n",
        "        m[1][0] = m[0][1]\n",
        "        m[1][1] = m[0][0]\n",
        "        if self.node0.hasLocMass:\n",
        "          m[0][0] += self.node0.locMass\n",
        "        elif self.node1.hasLocMass:\n",
        "          m[1][1] += self.node1.locMass\n",
        "        return m"
      ],
      "execution_count": null,
      "outputs": []
    },
    {
      "cell_type": "code",
      "metadata": {
        "id": "mrxvTNl30lig"
      },
      "source": [
        "# Objeto que armazena propriedades do material\n",
        "class Material():\n",
        "    def __init__(self, elastic_modulus, rho):\n",
        "        self.elastic_modulus = elastic_modulus\n",
        "        self.rho = rho"
      ],
      "execution_count": null,
      "outputs": []
    },
    {
      "cell_type": "code",
      "metadata": {
        "id": "JEifJDJq0oMS"
      },
      "source": [
        "#Classe que insere os atributos do modelo\n",
        "class Combinable():\n",
        "    def __init__(self, mesh):\n",
        "        self.nodes = mesh.mesh_nodes.copy()\n",
        "        self.elements = mesh.mesh_elements.copy()\n",
        "    \n",
        "    def add_mesh_at_end(self, mesh):\n",
        "        mesh_nodes = mesh.mesh_nodes.copy()\n",
        "        last_id = self.nodes[-1].id\n",
        "        mesh_elements = mesh.mesh_elements.copy()\n",
        "        mesh_elements[0].node0 = self.nodes[-1]\n",
        "        for i in mesh_nodes[1:]:\n",
        "          last_id += 1\n",
        "          i.id = last_id\n",
        "          self.nodes.append(i)\n",
        "        for i in mesh_elements:\n",
        "          self.elements.append(i)\n",
        "    \n",
        "    def set_material_for_all(self, material):\n",
        "        for element in self.elements:\n",
        "            element.set_material(material)\n",
        "    \n",
        "    def restraint_node_by_id(self, idNode):\n",
        "        for node in self.nodes:\n",
        "            if node.id == idNode:\n",
        "                node.restrained = True\n",
        "    \n",
        "    def add_spring_at_node(self, idNode, stiffness):\n",
        "        for node in self.nodes:\n",
        "            if node.id == idNode:\n",
        "              node.set_spring(stiffness)\n",
        "    def add_mass_at_node(self, idNode, mass):\n",
        "        for node in self.nodes:\n",
        "            if node.id == idNode:\n",
        "              node.set_mass(mass)"
      ],
      "execution_count": null,
      "outputs": []
    },
    {
      "cell_type": "markdown",
      "metadata": {
        "id": "q1nKlxIM40nv"
      },
      "source": [
        "#Processamento"
      ]
    },
    {
      "cell_type": "code",
      "metadata": {
        "id": "oPwLfYHm1QZK"
      },
      "source": [
        "#Classe que monta as equações do modelo\n",
        "class FemModel():\n",
        "    def __init__(self, combinable):\n",
        "        self.nodes = combinable.nodes\n",
        "        self.elements = combinable.elements\n",
        "    \n",
        "    def mount_global_k(self):\n",
        "        global_k = np.zeros((len(self.nodes), len(self.nodes)))\n",
        "        for el in self.elements:\n",
        "            local_k = el.mount_local_k()\n",
        "            global_k[el.node0.id][el.node0.id] += local_k[0][0]\n",
        "            global_k[el.node0.id][el.node1.id] += local_k[0][1]\n",
        "            global_k[el.node1.id][el.node0.id] += local_k[1][0]\n",
        "            global_k[el.node1.id][el.node1.id] += local_k[1][1]\n",
        "        self.global_k = global_k\n",
        "        return global_k\n",
        "    \n",
        "    def mount_global_m(self):\n",
        "        global_m = np.zeros((len(self.nodes) , len(self.nodes)))\n",
        "        for el in self.elements:\n",
        "            local_m = el.mount_local_m()\n",
        "            global_m[el.node0.id][el.node0.id] += local_m[0][0]\n",
        "            global_m[el.node0.id][el.node1.id] += local_m[0][1]\n",
        "            global_m[el.node1.id][el.node0.id] += local_m[1][0]\n",
        "            global_m[el.node1.id][el.node1.id] += local_m[1][1]\n",
        "        self.global_m = global_m\n",
        "        return global_m"
      ],
      "execution_count": null,
      "outputs": []
    },
    {
      "cell_type": "code",
      "metadata": {
        "id": "wLZNHr_U1SjH"
      },
      "source": [
        "#Classe que soluciona as equações do modelo\n",
        "class Solver():\n",
        "    def __init__(self, femModel):\n",
        "        self.fem_model = femModel\n",
        "    \n",
        "    def solve_model(self):\n",
        "        k = self.fem_model.mount_global_k()\n",
        "        m = self.fem_model.mount_global_m()\n",
        "        k, m = self.removeRestrainedNodes(k,m)\n",
        "        m1 = np.linalg.inv(m)\n",
        "        characteristic_matrix = np.matmul(m1, k)\n",
        "        self.result = np.linalg.eig(characteristic_matrix)\n",
        "        self.eigenValues = self.result[0]\n",
        "        self.eigenVectors = self.result[1]\n",
        "        self.natural_frequencies = np.sqrt(self.eigenValues)\n",
        "    \n",
        "    def get_n_min_frequencies(self, n):\n",
        "        return self.natural_frequencies[np.argsort(self.natural_frequencies)[:n]]\n",
        "    \n",
        "    def removeRestrainedNodes(self, k, m):\n",
        "        restrained = []\n",
        "        for node in self.fem_model.nodes:\n",
        "            if node.restrained:\n",
        "                restrained.append(node.id)\n",
        "        k = np.delete(k, restrained, axis = 0)\n",
        "        k = np.delete(k, restrained, axis = 1)\n",
        "        m = np.delete(m, restrained, axis = 0)\n",
        "        m = np.delete(m, restrained, axis = 1)\n",
        "        \n",
        "        return (k, m)"
      ],
      "execution_count": null,
      "outputs": []
    },
    {
      "cell_type": "markdown",
      "metadata": {
        "id": "Ohaxx7SBImHG"
      },
      "source": [
        "# Run Model"
      ]
    },
    {
      "cell_type": "code",
      "metadata": {
        "id": "KcV-ceVd1UJ4"
      },
      "source": [
        "#Model Properties\n",
        "matricula = \"2016028658\"\n",
        "L = (192) / 100\n",
        "d0 = L/5\n",
        "d1 = L/10\n",
        "M = 2*L*100\n",
        "E = 20E10\n",
        "rho = 7800\n",
        "n_elementos = 20"
      ],
      "execution_count": null,
      "outputs": []
    },
    {
      "cell_type": "code",
      "metadata": {
        "id": "ZF3K5WYs5CTQ"
      },
      "source": [
        "#Função de para resolver o problema\n",
        "def run(d0,d1,L,E,rho,M,n_elementos):\n",
        "    #Cria geometrias do modelo\n",
        "    geometria1 = Geometry_Cilinder(L/2, d0/2)\n",
        "    geometria2 = Geometry_Cilinder(L/2, d1/2)\n",
        "\n",
        "    malha1 = Mesh(geometria1, n_elementos//2)\n",
        "    malha2 = Mesh(geometria2, n_elementos - n_elementos//2)\n",
        "\n",
        "    #Gera malha para geometria 1\n",
        "    malha1.generate_mesh()\n",
        "    #Gera malha para geometria 2 \n",
        "    #OBS: Para numéro ímpar de elementos a geomteria mais a direita terá um elemento a mais)\n",
        "    #Isso foi feito para manter a geometria regular e estabilizar a tendência de solução\n",
        "    malha2.generate_mesh()\n",
        "\n",
        "    #Cria modelo\n",
        "    modelo = Combinable(malha1)\n",
        "    #Junta as malhas\n",
        "    modelo.add_mesh_at_end(malha2)\n",
        "    modelo.set_material_for_all(Material(E, rho))\n",
        "    modelo.add_mass_at_node(n_elementos, M)\n",
        "    modelo.restraint_node_by_id(0)\n",
        "    #Cria modelo FEM\n",
        "    modeloFem = FemModel(modelo)\n",
        "    #Soluciona\n",
        "    solver = Solver(modeloFem)\n",
        "    solver.solve_model()\n",
        "    \n",
        "    return solver"
      ],
      "execution_count": null,
      "outputs": []
    },
    {
      "cell_type": "code",
      "metadata": {
        "id": "nYuPx3ieEV1V"
      },
      "source": [
        "np.set_printoptions(edgeitems=30, linewidth=200, formatter=None)"
      ],
      "execution_count": null,
      "outputs": []
    },
    {
      "cell_type": "code",
      "metadata": {
        "id": "LOR-gyYJ5JFg"
      },
      "source": [
        "solver = run(d0,d1,L,E,rho,M,20)"
      ],
      "execution_count": null,
      "outputs": []
    },
    {
      "cell_type": "code",
      "metadata": {
        "colab": {
          "base_uri": "https://localhost:8080/"
        },
        "id": "ne2-ixBVUTxf",
        "outputId": "895f6979-2778-4622-ffc3-1114b0a06791"
      },
      "source": [
        "solver.eigenValues"
      ],
      "execution_count": null,
      "outputs": [
        {
          "output_type": "execute_result",
          "data": {
            "text/plain": [
              "array([3.27780209e+10, 3.10550466e+10, 2.84673098e+10, 2.53712363e+10, 2.20465064e+10, 1.87920903e+10, 1.57062377e+10, 1.29499061e+10, 1.04784603e+10, 8.37492217e+09, 6.53723173e+09, 5.02327416e+09,\n",
              "       3.72107413e+09, 2.68584886e+09, 1.81270147e+09, 1.16068746e+09, 6.35721164e+08, 3.01410432e+08, 7.48349302e+07, 9.79854025e+06])"
            ]
          },
          "metadata": {
            "tags": []
          },
          "execution_count": 20
        }
      ]
    },
    {
      "cell_type": "code",
      "metadata": {
        "colab": {
          "base_uri": "https://localhost:8080/"
        },
        "id": "DcD1Q4fU5LWC",
        "outputId": "bcb464d0-cf53-4424-b85b-a6ecd8328024"
      },
      "source": [
        "solver.get_n_min_frequencies(5)"
      ],
      "execution_count": null,
      "outputs": [
        {
          "output_type": "execute_result",
          "data": {
            "text/plain": [
              "array([ 3130.26200938,  8650.71847848, 17361.17598299, 25213.51154315, 34068.86350752])"
            ]
          },
          "metadata": {
            "tags": []
          },
          "execution_count": 19
        }
      ]
    },
    {
      "cell_type": "markdown",
      "metadata": {
        "id": "tgzZ8Of5JMow"
      },
      "source": [
        "# Pos-processamento"
      ]
    },
    {
      "cell_type": "code",
      "metadata": {
        "colab": {
          "base_uri": "https://localhost:8080/",
          "height": 554
        },
        "id": "Zge9VPuO5FML",
        "outputId": "88012fdd-a55c-48b6-8363-b50368a75af6"
      },
      "source": [
        "#Gráfico de resultados\n",
        "data = []\n",
        "for i in range (2,n_elementos+1):\n",
        "    solver = run(d0,d1,L,E,rho,M,i)\n",
        "    data.append(solver.get_n_min_frequencies(5))\n",
        "df = pd.DataFrame(data)\n",
        "df.index = [i for i in range(2,n_elementos+1)]\n",
        "df.plot(figsize = (16,9), grid = True, xticks = [i for i in range(2,n_elementos+1)])"
      ],
      "execution_count": null,
      "outputs": [
        {
          "output_type": "execute_result",
          "data": {
            "text/plain": [
              "<matplotlib.axes._subplots.AxesSubplot at 0x7fa6881b77d0>"
            ]
          },
          "metadata": {
            "tags": []
          },
          "execution_count": 31
        },
        {
          "output_type": "display_data",
          "data": {
            "image/png": "[encoded data removed]",
            "text/plain": [
              "<Figure size 1152x648 with 1 Axes>"
            ]
          },
          "metadata": {
            "tags": [],
            "needs_background": "light"
          }
        }
      ]
    }
  ]
}